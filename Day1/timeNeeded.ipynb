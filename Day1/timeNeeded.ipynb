{
 "cells": [
  {
   "cell_type": "code",
   "execution_count": 59,
   "metadata": {},
   "outputs": [
    {
     "data": {
      "text/plain": [
       "\"\\nIn this project I will be creating a script that tells the user how\\nmuch time will be needed of programming each day in order to accomplish 10000 hours\\nIn this endeavor I will be using multiple imports ' probably* '\\n\""
      ]
     },
     "execution_count": 59,
     "metadata": {},
     "output_type": "execute_result"
    }
   ],
   "source": [
    "\"\"\"\n",
    "In this project I will be creating a script that tells the user how\n",
    "much time will be needed of programming each day in order to accomplish 10000 hours\n",
    "In this endeavor I will be using multiple imports ' probably* '\n",
    "\"\"\""
   ]
  },
  {
   "cell_type": "code",
   "execution_count": 73,
   "metadata": {},
   "outputs": [],
   "source": [
    "def HoursAvailable(days, sleep=8, food=2, fun=2):\n",
    "    #Assuming 24 hours in the day\n",
    "    wakeTime = (24  \n",
    "                -sleep\n",
    "                -food\n",
    "                -fun\n",
    "    )\n",
    "    totalTime = days * wakeTime\n",
    "    return totalTime\n",
    "\n",
    "\n",
    "def expertChecker(x):\n",
    "    if (x > 10000):\n",
    "        return 1\n",
    "    else:\n",
    "        return 0\n",
    "    \n",
    "def timeNeeded(sleep,food,fun):\n",
    "    expert = 0 \n",
    "    days = 0\n",
    "    while expert is not 1:\n",
    "        days += 1 \n",
    "        expert = expertChecker(HoursAvailable(days,sleep,food,fun))\n",
    "    return days\n",
    "\n",
    "def yearMe(days):\n",
    "    time = int(days/(365)) \n",
    "    return time\n",
    "    \n",
    "def ageMe(current, new):\n",
    "    return current + new, new"
   ]
  },
  {
   "cell_type": "code",
   "execution_count": 79,
   "metadata": {},
   "outputs": [],
   "source": [
    "def wrapRun():\n",
    "    print(\" please input the following data as a number integer not string\")\n",
    "    yourAge = int(input(\"whats your age? : \"))\n",
    "    avgSleep= int(input(\"how much sleep do you average a day?: \"))\n",
    "    avgFood = int(input(\"how much time do you spend eating a day?: \"))\n",
    "    avgFun = int(input(\"how much time do you spend on other  activities a day?: \"))\n",
    "    newAge, addedAge = ageMe(yourAge,yearMe(timeNeeded(avgSleep,avgFood,avgFun)))\n",
    "    print(\"For you to achieve 10,000 hours in this task it will take you\", \n",
    "          addedAge, \"years, This will make you\", \n",
    "          newAge,\n",
    "          \"years old in the end\")\n",
    "    if addedAge == 1:\n",
    "        phrase = str(addedAge) + \" year of time for 10000 hours\"\n",
    "    else:\n",
    "        phrase = str(addedAge) + \" years of time for 10000 hours\"\n",
    "    return(phrase)"
   ]
  },
  {
   "cell_type": "code",
   "execution_count": 78,
   "metadata": {
    "scrolled": true
   },
   "outputs": [
    {
     "name": "stdout",
     "output_type": "stream",
     "text": [
      " please input the following data as a number integer not string\n",
      "whats your age? : 22\n",
      "how much sleep do you average a day?: 8\n",
      "how much time do you spend eating a day?: 2\n",
      "how much time do you spend on other  activities a day?: 2\n",
      "For you to achieve 10,000 hours in this task it will take you 2 years, This will make you 24 old in the end\n"
     ]
    },
    {
     "data": {
      "text/plain": [
       "'2 years of time for 10000 hours'"
      ]
     },
     "execution_count": 78,
     "metadata": {},
     "output_type": "execute_result"
    }
   ],
   "source": [
    "wrapRun()"
   ]
  },
  {
   "cell_type": "code",
   "execution_count": 63,
   "metadata": {},
   "outputs": [],
   "source": [
    "# well now we know I'll be 24 before I accomplish this task... But thats the goal"
   ]
  }
 ],
 "metadata": {
  "kernelspec": {
   "display_name": "Python 3",
   "language": "python",
   "name": "python3"
  },
  "language_info": {
   "codemirror_mode": {
    "name": "ipython",
    "version": 3
   },
   "file_extension": ".py",
   "mimetype": "text/x-python",
   "name": "python",
   "nbconvert_exporter": "python",
   "pygments_lexer": "ipython3",
   "version": "3.6.4"
  }
 },
 "nbformat": 4,
 "nbformat_minor": 2
}

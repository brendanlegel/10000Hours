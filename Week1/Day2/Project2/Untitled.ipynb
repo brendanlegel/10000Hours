{
 "cells": [
  {
   "cell_type": "code",
   "execution_count": 1,
   "metadata": {},
   "outputs": [
    {
     "data": {
      "text/plain": [
       "'\\nThe application needs to be small, and needed to wait on responses doing things without takin\\nup a ton of time/ram/memory... \\nFor this I have pre thought out several problems ...\\n1 -> how do I minus time from time...\\n2 -> how do I order/write process the events... especially into google sheets AI \\n\\n'"
      ]
     },
     "execution_count": 1,
     "metadata": {},
     "output_type": "execute_result"
    }
   ],
   "source": [
    "#Okay I want an application that hangs out while I work...\n",
    "\"\"\"\n",
    "The application needs to be small, and needed to wait on responses doing things without takin\n",
    "up a ton of time/ram/memory... \n",
    "For this I have pre thought out several problems ...\n",
    "1 -> how do I minus time from time...\n",
    "2 -> how do I order/write process the events... especially into google sheets AI \n",
    "\n",
    "\"\"\""
   ]
  },
  {
   "cell_type": "code",
   "execution_count": 6,
   "metadata": {},
   "outputs": [
    {
     "name": "stderr",
     "output_type": "stream",
     "text": [
      "2018-05-24 14:54:53,423 appJar:WARNING [703/_checkMode]: Interactive mode is not fully tested, some features might not work.\n",
      "2018-05-24 14:54:53,439 appJar:WARNING [714/_checkMode]: iPython is not fully tested, some features might not work.\n"
     ]
    }
   ],
   "source": [
    "from appJar import gui \n",
    "app = gui()\n"
   ]
  },
  {
   "cell_type": "code",
   "execution_count": 5,
   "metadata": {},
   "outputs": [],
   "source": []
  },
  {
   "cell_type": "code",
   "execution_count": null,
   "metadata": {},
   "outputs": [],
   "source": []
  }
 ],
 "metadata": {
  "kernelspec": {
   "display_name": "Python 3",
   "language": "python",
   "name": "python3"
  },
  "language_info": {
   "codemirror_mode": {
    "name": "ipython",
    "version": 3
   },
   "file_extension": ".py",
   "mimetype": "text/x-python",
   "name": "python",
   "nbconvert_exporter": "python",
   "pygments_lexer": "ipython3",
   "version": "3.6.4"
  }
 },
 "nbformat": 4,
 "nbformat_minor": 2
}
